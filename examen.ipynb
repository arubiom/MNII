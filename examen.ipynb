{
 "cells": [
  {
   "cell_type": "markdown",
   "metadata": {},
   "source": [
    "# Alejandro Rubio Martíenz"
   ]
  },
  {
   "cell_type": "markdown",
   "metadata": {},
   "source": [
    "Vamos a empezar incluyendo todos los módulos necesarios:"
   ]
  },
  {
   "cell_type": "code",
   "execution_count": 1,
   "metadata": {},
   "outputs": [],
   "source": [
    "import numpy as np\n",
    "import sympy as sp\n",
    "import matplotlib.pyplot as plt\n",
    "from time import perf_counter as now"
   ]
  },
  {
   "cell_type": "markdown",
   "metadata": {},
   "source": [
    "Ahora vamos a definir los datos que nos da el enunciado:"
   ]
  },
  {
   "cell_type": "code",
   "execution_count": 4,
   "metadata": {},
   "outputs": [],
   "source": [
    "t, x, z = sp.symbols('t, x, z')\n",
    "h = sp.symbols('h')\n",
    "y0 = sp.symbols('y_0')\n",
    "\n",
    "def f(t,z):\n",
    "    return (t-z)/2\n",
    "\n",
    "a,b = 0,1\n",
    "ya=1"
   ]
  },
  {
   "cell_type": "markdown",
   "metadata": {},
   "source": [
    "Ahora vamos a resolver la ecuación simbólicamente para poder comparar con las aproximaciones que hagamos"
   ]
  },
  {
   "cell_type": "code",
   "execution_count": 7,
   "metadata": {},
   "outputs": [
    {
     "data": {
      "text/latex": [
       "$\\displaystyle y{\\left(t \\right)} = t + \\left(y_{0} + 2\\right) e^{- \\frac{t}{2}} - 2$"
      ],
      "text/plain": [
       "Eq(y(t), t + (y_0 + 2)*exp(-t/2) - 2)"
      ]
     },
     "execution_count": 7,
     "metadata": {},
     "output_type": "execute_result"
    }
   ],
   "source": [
    "y = sp.Function('y')\n",
    "edo = y(t).diff(t)-f(t,y(t))\n",
    "sp.Eq(edo,0)\n",
    "edo_sol = sp.dsolve(edo)\n",
    "ics = {y(0): y0}\n",
    "edo_sol.rhs.subs(t, 0),edo_sol.lhs.subs(t, 0).subs(ics)\n",
    "CI_eq = sp.Eq(edo_sol.lhs.subs(t, 0).subs(ics),edo_sol.rhs.subs(t, 0))\n",
    "CI_sol = sp.solve(CI_eq) \n",
    "edo_sol.subs(CI_sol[0]) "
   ]
  },
  {
   "cell_type": "markdown",
   "metadata": {},
   "source": [
    "Pero lo que nos interesa es obtener la segunda expresión y sustituyendo el y0"
   ]
  },
  {
   "cell_type": "code",
   "execution_count": 9,
   "metadata": {},
   "outputs": [
    {
     "data": {
      "text/latex": [
       "$\\displaystyle t - 2 + 3 e^{- \\frac{t}{2}}$"
      ],
      "text/plain": [
       "t - 2 + 3*exp(-t/2)"
      ]
     },
     "execution_count": 9,
     "metadata": {},
     "output_type": "execute_result"
    }
   ],
   "source": [
    "sol_exacta = edo_sol.rhs.subs(CI_sol[0]).subs({y0:ya})\n",
    "sol_exacta"
   ]
  },
  {
   "cell_type": "markdown",
   "metadata": {},
   "source": [
    "Vamos a definir esta última como una función numérica para simplificar el representarla posterioremente"
   ]
  },
  {
   "cell_type": "code",
   "execution_count": 14,
   "metadata": {},
   "outputs": [],
   "source": [
    "def fsol(t):\n",
    "    return t-2+3*np.exp(-t/2)"
   ]
  },
  {
   "cell_type": "markdown",
   "metadata": {},
   "source": [
    "Vamos ya con los métodos. Empezamos por el método de Euler mejorado:"
   ]
  },
  {
   "cell_type": "code",
   "execution_count": 19,
   "metadata": {},
   "outputs": [],
   "source": [
    "def eulerMejorado(F,x0,y00,xfinal,N):    \n",
    "    X = np.linspace(x0,xfinal,N+1)\n",
    "    Y = [y00]; h = (xfinal-x0)/N\n",
    "    for n in range(N):\n",
    "        Y.append(Y[n] + h*F(X[n]+h/2,Y[n]+h/2*F(X[n],Y[n])))\n",
    "    return np.array(X),np.array(Y)"
   ]
  },
  {
   "cell_type": "markdown",
   "metadata": {},
   "source": [
    "Ahora Euler modificado:"
   ]
  },
  {
   "cell_type": "code",
   "execution_count": 20,
   "metadata": {},
   "outputs": [],
   "source": [
    "def eulerModificado(F,x0,y00,xfinal,N):    \n",
    "    X = np.linspace(x0,xfinal,N+1)\n",
    "    Y = [y00]; h = (xfinal-x0)/N\n",
    "    for n in range(N):\n",
    "        Y.append(Y[n] + h/2*(F(X[n],Y[n])+F(X[n+1],Y[n]+h*F(X[n],Y[n]))))\n",
    "    return np.array(X),np.array(Y)"
   ]
  },
  {
   "cell_type": "markdown",
   "metadata": {},
   "source": [
    "Vamos a ejecutar cada método con 10 iteraciones ($h$=0.1)"
   ]
  },
  {
   "cell_type": "code",
   "execution_count": 21,
   "metadata": {},
   "outputs": [],
   "source": [
    "N=10\n",
    "x1,y1 = eulerMejorado(f,a,ya,b,N)\n",
    "x2,y2 = eulerModificado(f,a,ya,b,N)"
   ]
  },
  {
   "cell_type": "markdown",
   "metadata": {},
   "source": [
    "Vamos a comparar las aproximaciones obtenidas:"
   ]
  },
  {
   "cell_type": "code",
   "execution_count": 48,
   "metadata": {},
   "outputs": [
    {
     "data": {
      "text/plain": [
       "<matplotlib.legend.Legend at 0x11eb8de50>"
      ]
     },
     "execution_count": 48,
     "metadata": {},
     "output_type": "execute_result"
    },
    {
     "data": {
      "image/png": "[encoded data removed]",
      "text/plain": [
       "<Figure size 432x288 with 1 Axes>"
      ]
     },
     "metadata": {
      "needs_background": "light"
     },
     "output_type": "display_data"
    }
   ],
   "source": [
    "plt.plot(x1,y1, 'x', color = \"red\", label = \"mejorado\")\n",
    "plt.plot(x2,y2, '.', color = \"blue\", label = \"modificado\")\n",
    "xx = np.linspace(a,b,100)\n",
    "yy = [fsol(i) for i in xx]\n",
    "plt.plot(xx,yy,color=\"black\", label = \"solucion exacta\")\n",
    "plt.legend()"
   ]
  },
  {
   "cell_type": "markdown",
   "metadata": {},
   "source": [
    "Podemos ver como los valores obtenidos son prácticamente idénticos a la solución original. Vamos a medir este error mejor, pero usando también Runge-Kutta con $p$=2 con $\\alpha = \\frac{3}{4}$ y $\\beta = \\frac{2}{3}$  (de los apuntes) (aunque podríamos cambiarlos)"
   ]
  },
  {
   "cell_type": "code",
   "execution_count": 27,
   "metadata": {},
   "outputs": [],
   "source": [
    "def rk2(F,a,b,x0,N,alpha=2/3,beta=3/4):\n",
    "    import numpy as np\n",
    "\n",
    "    h = (b-a)/float(N)\n",
    "\n",
    "    tn =[]\n",
    "    xn = []\n",
    "    tn.append(a)\n",
    "    xn.append(x0)\n",
    "\n",
    "    for i in range(1,N+1):\n",
    "        tn.append(a+i*h)\n",
    "        xn.append(0)\n",
    "\n",
    "    for i in range(N):\n",
    "        K1 = F(tn[i],xn[i])\n",
    "        K2 = F(tn[i]+beta*h, xn[i]+h*beta*K1)\n",
    "\n",
    "        xn[i+1] = xn[i] + h*((1-alpha)*K1 + alpha*K2)\n",
    "\n",
    "    return np.array(tn), np.array(xn)"
   ]
  },
  {
   "cell_type": "code",
   "execution_count": 28,
   "metadata": {},
   "outputs": [],
   "source": [
    "x3,y3 = rk2(f,a,b,ya,N)"
   ]
  },
  {
   "cell_type": "markdown",
   "metadata": {},
   "source": [
    "Ahora sí vamos a representar los errores de los tres métodos"
   ]
  },
  {
   "cell_type": "code",
   "execution_count": 41,
   "metadata": {},
   "outputs": [],
   "source": [
    "errorMejorado = [np.abs(fsol(x1[i])-y1[i]) for i in range(N+1)]\n",
    "errorModificado = [np.abs(fsol(x2[i])-y2[i]) for i in range(N+1)]\n",
    "errorRK = [np.abs(fsol(x3[i])-y3[i]) for i in range(N+1)]"
   ]
  },
  {
   "cell_type": "code",
   "execution_count": 46,
   "metadata": {},
   "outputs": [
    {
     "data": {
      "text/plain": [
       "<matplotlib.legend.Legend at 0x11eb1f6d0>"
      ]
     },
     "execution_count": 46,
     "metadata": {},
     "output_type": "execute_result"
    },
    {
     "data": {
      "image/png": "[encoded data removed]",
      "text/plain": [
       "<Figure size 432x288 with 1 Axes>"
      ]
     },
     "metadata": {
      "needs_background": "light"
     },
     "output_type": "display_data"
    }
   ],
   "source": [
    "plt.plot(x1,errorMejorado,color=\"red\",label=\"mejorado\")\n",
    "plt.plot(x2,errorModificado,color=\"blue\", label=\"modificado\")\n",
    "plt.plot(x3,errorRK,color=\"green\", label=\"rk\")\n",
    "plt.legend()"
   ]
  },
  {
   "cell_type": "markdown",
   "metadata": {},
   "source": [
    "A simple vista es imposible ver cual es el mejor de todos así que vamos a verlo numéricamente:"
   ]
  },
  {
   "cell_type": "code",
   "execution_count": 47,
   "metadata": {},
   "outputs": [
    {
     "name": "stdout",
     "output_type": "stream",
     "text": [
      "Errores del método mejorado:\n",
      " [0.0, 6.172649785807227e-05, 0.0001174333921212245, 0.00016756095920145153, 0.0002125208515036947, 0.00025269784206904955, 0.0002884514671359639, 0.00032011757242511596, 0.00034800976863036404, 0.0003724208012951813, 0.00039362383996743855]\n",
      "Errores del método modificado:\n",
      " [0.0, 6.172649785807227e-05, 0.0001174333921212245, 0.00016756095920145153, 0.0002125208515036947, 0.00025269784206904955, 0.0002884514671359639, 0.00032011757242500494, 0.000348009768630253, 0.00037242080129507027, 0.0003936238399673275]\n",
      "Error del método de rk:\n",
      " [0.0, 6.172649785807227e-05, 0.0001174333921212245, 0.00016756095920145153, 0.0002125208515036947, 0.00025269784206904955, 0.0002884514671359639, 0.00032011757242500494, 0.000348009768630253, 0.00037242080129507027, 0.0003936238399673275]\n"
     ]
    }
   ],
   "source": [
    "print(\"Errores del método mejorado:\\n\", errorMejorado)\n",
    "print(\"Errores del método modificado:\\n\", errorModificado)\n",
    "print(\"Error del método de rk:\\n\", errorRK)"
   ]
  },
  {
   "cell_type": "markdown",
   "metadata": {},
   "source": [
    "Podemos observar como euler modifcado y rk tienen los mismos errores"
   ]
  }
 ],
 "metadata": {
  "interpreter": {
   "hash": "aee8b7b246df8f9039afb4144a1f6fd8d2ca17a180786b69acc140d282b71a49"
  },
  "kernelspec": {
   "display_name": "Python 3.9.12 64-bit",
   "language": "python",
   "name": "python3"
  },
  "language_info": {
   "codemirror_mode": {
    "name": "ipython",
    "version": 3
   },
   "file_extension": ".py",
   "mimetype": "text/x-python",
   "name": "python",
   "nbconvert_exporter": "python",
   "pygments_lexer": "ipython3",
   "version": "3.9.12"
  },
  "orig_nbformat": 4
 },
 "nbformat": 4,
 "nbformat_minor": 2
}
