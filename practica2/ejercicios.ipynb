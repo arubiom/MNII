{
 "cells": [
  {
   "cell_type": "markdown",
   "metadata": {},
   "source": [
    "#### Alejandro Rubio Martínez"
   ]
  },
  {
   "cell_type": "code",
   "execution_count": 4,
   "metadata": {},
   "outputs": [],
   "source": [
    "import numpy as np\n",
    "import sympy as sp\n",
    "from scipy.integrate import quad\n",
    "import matplotlib.pyplot as plt"
   ]
  },
  {
   "cell_type": "markdown",
   "metadata": {},
   "source": [
    "**1.- Obtenga mediante interpolación en el espacio $\\mathbb{P}_2$ una fórmula para aproximar $f''(a)$ del tipo combinación de $f(a-h)$, $f(a)$ y $f(a+h)$.**"
   ]
  },
  {
   "cell_type": "markdown",
   "metadata": {},
   "source": [
    "Vamos a usar interpolación por el polinomio de Lagrange"
   ]
  },
  {
   "cell_type": "code",
   "execution_count": 5,
   "metadata": {},
   "outputs": [],
   "source": [
    "f = sp.Function('f')\n",
    "a,h = sp.symbols('a,h')\n",
    "x = [a-h,a,a+h]\n",
    "y = [f(i) for i in x]"
   ]
  },
  {
   "cell_type": "markdown",
   "metadata": {},
   "source": [
    "Una vez está todo declarado vamos a pasar al cálculo de los coeficientes"
   ]
  },
  {
   "cell_type": "code",
   "execution_count": 6,
   "metadata": {},
   "outputs": [],
   "source": [
    "z = sp.Symbol('z')\n",
    "p0 = y[0]\n",
    "p1 = p0 + (z-x[0])/(x[1]-x[0])*(y[1]-y[0])\n",
    "D = sp.Symbol('D')\n",
    "p2 = p1 + (z-x[0])*(z-x[1])*D\n",
    "sol2 = sp.solve(p2.subs({z:x[2]})-y[2],D)\n",
    "D = sol2[0]\n",
    "p2 = p1 + (z-x[0])*(z-x[1])*D"
   ]
  },
  {
   "cell_type": "markdown",
   "metadata": {},
   "source": [
    "Así los coeficientes serán los siguientes:"
   ]
  },
  {
   "cell_type": "code",
   "execution_count": 7,
   "metadata": {},
   "outputs": [
    {
     "data": {
      "text/latex": [
       "$\\displaystyle f{\\left(a - h \\right)} + \\frac{\\left(f{\\left(a \\right)} - f{\\left(a - h \\right)}\\right) \\left(- a + h + z\\right)}{h} + \\frac{\\left(- a + z\\right) \\left(- a + h + z\\right) \\left(- 2 f{\\left(a \\right)} + f{\\left(a - h \\right)} + f{\\left(a + h \\right)}\\right)}{2 h^{2}}$"
      ],
      "text/plain": [
       "f(a - h) + (f(a) - f(a - h))*(-a + h + z)/h + (-a + z)*(-a + h + z)*(-2*f(a) + f(a - h) + f(a + h))/(2*h**2)"
      ]
     },
     "execution_count": 7,
     "metadata": {},
     "output_type": "execute_result"
    }
   ],
   "source": [
    "p2"
   ]
  },
  {
   "cell_type": "markdown",
   "metadata": {},
   "source": [
    "Tan sólo derivamos dos veces el polinomio y obtenemos entonces que la fórmula obtenida es:"
   ]
  },
  {
   "cell_type": "code",
   "execution_count": 8,
   "metadata": {},
   "outputs": [
    {
     "data": {
      "text/latex": [
       "$\\displaystyle \\frac{- 2 f{\\left(a \\right)} + f{\\left(a - h \\right)} + f{\\left(a + h \\right)}}{h^{2}}$"
      ],
      "text/plain": [
       "(-2*f(a) + f(a - h) + f(a + h))/h**2"
      ]
     },
     "execution_count": 8,
     "metadata": {},
     "output_type": "execute_result"
    }
   ],
   "source": [
    "d1 = sp.diff(p2,z,2).subs({z:a}).simplify()\n",
    "d1"
   ]
  },
  {
   "cell_type": "markdown",
   "metadata": {},
   "source": [
    "**2.- Con la fórmula obtenida en el ejercicio 1, halle una tabla de aproximaciones y errores de $f_1''(2.5)$, siendo $f_1(x)=x^x$, para $h=10^{-i},\\; i=1,\\ldots,5.$**"
   ]
  },
  {
   "cell_type": "code",
   "execution_count": 9,
   "metadata": {},
   "outputs": [],
   "source": [
    "def f(z):\n",
    "    return z**z"
   ]
  },
  {
   "cell_type": "markdown",
   "metadata": {},
   "source": [
    "Vamos a calcular el error aporximado que será:"
   ]
  },
  {
   "cell_type": "code",
   "execution_count": 10,
   "metadata": {},
   "outputs": [
    {
     "name": "stdout",
     "output_type": "stream",
     "text": [
      "40.2416648563875\n"
     ]
    }
   ],
   "source": [
    "valor_exacto = sp.diff(f(z),z,2).subs({z:2.5})\n",
    "print(valor_exacto)"
   ]
  },
  {
   "cell_type": "markdown",
   "metadata": {},
   "source": [
    "Vamos a definir la fórmula que hemos obtenido en el apartado anterior:"
   ]
  },
  {
   "cell_type": "code",
   "execution_count": 11,
   "metadata": {},
   "outputs": [],
   "source": [
    "def formula(f, a, h):\n",
    "    return (-2*f(a)+f(a-h)+f(a+h))/h**2"
   ]
  },
  {
   "cell_type": "markdown",
   "metadata": {},
   "source": [
    "Calculamos para los puntos que nos dice el enunciado"
   ]
  },
  {
   "cell_type": "code",
   "execution_count": 12,
   "metadata": {},
   "outputs": [],
   "source": [
    "aproximaciones = [formula(f=lambda z:z**z, a=2.5, h=10**(-i)) for i in range(1,6)]"
   ]
  },
  {
   "cell_type": "markdown",
   "metadata": {},
   "source": [
    "Con esto ya podemos calcular los errores:"
   ]
  },
  {
   "cell_type": "code",
   "execution_count": 13,
   "metadata": {},
   "outputs": [],
   "source": [
    "errores = [abs(v - valor_exacto) for v in aproximaciones]"
   ]
  },
  {
   "cell_type": "markdown",
   "metadata": {},
   "source": [
    "Ahora sólo nos falta realizar la tabla"
   ]
  },
  {
   "cell_type": "code",
   "execution_count": 14,
   "metadata": {},
   "outputs": [
    {
     "name": "stdout",
     "output_type": "stream",
     "text": [
      "Valor exacto: 40.2416648563875\n",
      "\n",
      "h\tAproximación\t\tError\n",
      "10^-1\t40.42056829795832\t0.178903441570853\n",
      "10^-2\t40.243450230939004\t0.00178537455153815\n",
      "10^-3\t40.24168270788664\t0.0000178514991731049\n",
      "10^-4\t40.24166475602442\t1.00363045874019E-7\n",
      "10^-5\t40.24164113047845\t0.0000237259090170028\n"
     ]
    }
   ],
   "source": [
    "print(\"Valor exacto: {}\\n\".format(valor_exacto))\n",
    "\n",
    "print(\"h\\tAproximación\\t\\tError\")\n",
    "for i in range(1,6):\n",
    "    print(\"10^{}\\t{}\\t{}\".format(-i, aproximaciones[i-1], errores[i-1]))"
   ]
  },
  {
   "cell_type": "markdown",
   "metadata": {},
   "source": [
    "**3.- Sea $f_2(x)=\\frac{x^2+40}{x+\\sqrt{5x}+7}$. Calcule una tabla que recoja las derivadas de $f_2$ en $x_i=1,2,\\ldots,10$, utilizando alguna de las fórmulas de derivación numérica de primer orden obtenidas al inicio de la práctica, con $h=10^{-3}$, y muestre al mismo tiempo el error cometido en cada punto. Repita el ejercicio con la fórmula centrada obtenida para la derivada primera y, finalmente, para la obtenida en el ejercicio 1 (con respecto a la segunda derivada).**"
   ]
  },
  {
   "cell_type": "code",
   "execution_count": 15,
   "metadata": {},
   "outputs": [],
   "source": [
    "def f(z):\n",
    "    return (z**2+40)/(z+(5*z)**(1/2)+7)"
   ]
  },
  {
   "cell_type": "markdown",
   "metadata": {},
   "source": [
    "Vamos a empezar con la siguiente fórmula:\n",
    "\n",
    "$f_{2}'(x)\\approx\\frac{f_2(x+h)-f_2(x)}{h}$"
   ]
  },
  {
   "cell_type": "code",
   "execution_count": 16,
   "metadata": {},
   "outputs": [],
   "source": [
    "def formula(f, a, h):\n",
    "    return (f(a+h)-f(a))/h"
   ]
  },
  {
   "cell_type": "markdown",
   "metadata": {},
   "source": [
    "Vamos otra vez a repetir el procedimiento del proceso anterior pero esta vez para los puntos indicados en el enunciado:"
   ]
  },
  {
   "cell_type": "code",
   "execution_count": 17,
   "metadata": {},
   "outputs": [],
   "source": [
    "df = sp.diff(f(z),z)\n",
    "valor_exacto = [df.subs({z:i}) for i in range(1,11)]\n",
    "\n",
    "aproximaciones = [formula(f=lambda z:(z**2+40)/(z+(5*z)**(1/2)+7), a=i, h=10**(-3)) for i in range(1,11)]\n",
    "\n",
    "errores = [abs(v1 - v2) for (v1, v2) in zip(aproximaciones, valor_exacto)]"
   ]
  },
  {
   "cell_type": "code",
   "execution_count": 18,
   "metadata": {},
   "outputs": [
    {
     "name": "stdout",
     "output_type": "stream",
     "text": [
      "a\tValor exacto\t\tAproximación\t\tError\n",
      "1\t-0.633413841504903\t-0.6330758508230616\t0.000337990681841038\n",
      "2\t-0.203729991363422\t-0.20358841102519065\t0.000141580338231473\n",
      "3\t0.0135536765957583\t0.013637834543889227\t0.0000841579481308807\n",
      "4\t0.152356382446352\t0.15241382963759875\t0.0000574471912467844\n",
      "5\t0.250865051903114\t0.2509073591920874\t0.0000423072889731979\n",
      "6\t0.325234486346073\t0.32526720196468517\t0.0000327156186125110\n",
      "7\t0.383753089267232\t0.3837792735330581\t0.0000261842658260680\n",
      "8\t0.431201820656649\t0.43122332479583747\t0.0000215041391883886\n",
      "9\t0.470566739057635\t0.47058475905004116\t0.0000180199924058044\n",
      "10\t0.503824070415537\t0.5038394181333672\t0.0000153477178297390\n"
     ]
    }
   ],
   "source": [
    "print(\"a\\tValor exacto\\t\\tAproximación\\t\\tError\")\n",
    "for i in range(1,11):\n",
    "    print(\"{}\\t{}\\t{}\\t{}\".format(i, valor_exacto[i-1], aproximaciones[i-1], errores[i-1]))"
   ]
  },
  {
   "cell_type": "markdown",
   "metadata": {},
   "source": [
    "Vamos a repetir exactamente el proceso para la fórmula centrada, que es:\n",
    "\n",
    "$f_{2}'(x)\\approx\\frac{f_2(x-h)-f_2(x+h)}{2h}$"
   ]
  },
  {
   "cell_type": "code",
   "execution_count": 19,
   "metadata": {},
   "outputs": [
    {
     "name": "stdout",
     "output_type": "stream",
     "text": [
      "a\tValor exacto\t\tAproximación\t\tError\n",
      "1\t-0.633413841504903\t6.334139834538455e-07\t0.633414474918886\n",
      "2\t-0.203729991363422\t2.0373002121565343e-07\t0.203730195093443\n",
      "3\t0.0135536765957583\t-1.3553664382381925e-08\t0.0135536901494227\n",
      "4\t0.152356382446352\t-1.5235637597976749e-07\t0.152356534802728\n",
      "5\t0.250865051903114\t-2.5086504797688924e-07\t0.250865302768162\n",
      "6\t0.325234486346073\t-3.252344837485488e-07\t0.325234811580556\n",
      "7\t0.383753089267232\t-3.8375308744642565e-07\t0.383753473020319\n",
      "8\t0.431201820656649\t-4.312018193228795e-07\t0.431202251858468\n",
      "9\t0.470566739057635\t-4.705667380475731e-07\t0.470567209624373\n",
      "10\t0.503824070415537\t-5.0382406963001e-07\t0.503824574239607\n"
     ]
    }
   ],
   "source": [
    "def formula(f, a, h):\n",
    "    return (f(a-h)-f(a+h))/2*h\n",
    "\n",
    "aproximaciones = [formula(f=lambda z:(z**2+40)/(z+(5*z)**(1/2)+7), a=i, h=10**(-3)) for i in range(1,11)]\n",
    "errores = [abs(v1 - v2) for (v1, v2) in zip(aproximaciones, valor_exacto)]\n",
    "\n",
    "print(\"a\\tValor exacto\\t\\tAproximación\\t\\tError\")\n",
    "for i in range(1,11):\n",
    "    print(\"{}\\t{}\\t{}\\t{}\".format(i, valor_exacto[i-1], aproximaciones[i-1], errores[i-1]))"
   ]
  },
  {
   "cell_type": "markdown",
   "metadata": {},
   "source": [
    "Y una vez más para la fórmula de la segunda derivada obtenida en el ejercicio 1:\n",
    "\n",
    "$f_{2}''(x)\\approx\\frac{f_2(x-h)-2f_2(x)+f_2(x+h)}{h^2}$"
   ]
  },
  {
   "cell_type": "code",
   "execution_count": 20,
   "metadata": {},
   "outputs": [
    {
     "name": "stdout",
     "output_type": "stream",
     "text": [
      "a\tValor exacto\t\tAproximación\t\tError\n",
      "1\t0.676265098285376\t0.6762652615677212\t1.63282345311266E-7\n",
      "2\t0.283220364176106\t0.2832203809255418\t1.67494356717590E-8\n",
      "3\t0.168340319928121\t0.1683403230146041\t3.08648318014804E-9\n",
      "4\t0.114907312895053\t0.11490731566254908\t2.76749589911418E-9\n",
      "5\t0.0846224302869937\t0.08462243039630835\t1.09314654550552E-10\n",
      "6\t0.0654364313639429\t0.06543643227274742\t9.08804489996307E-10\n",
      "7\t0.0523721743690358\t0.05237217326481414\t1.10422163079882E-9\n",
      "8\t0.0430109449028751\t0.04301094591596666\t1.01309156202989E-9\n",
      "9\t0.0360420057237485\t0.036042004936120975\t7.87627567333526E-10\n",
      "10\t0.0306970066620211\t0.03069700671431974\t5.22986827455885E-11\n"
     ]
    }
   ],
   "source": [
    "segundadf = sp.diff(f(z),z,2)\n",
    "valor_exacto = [segundadf.subs({z:i}) for i in range(1,11)]\n",
    "\n",
    "def formula(f, a, h):\n",
    "    return (f(a-h)-2*f(a)+f(a+h))/h**2\n",
    "\n",
    "aproximaciones = [formula(f=lambda z:(z**2+40)/(z+(5*z)**(1/2)+7), a=i, h=10**(-3)) for i in range(1,11)]\n",
    "errores = [abs(v1 - v2) for (v1, v2) in zip(aproximaciones, valor_exacto)]\n",
    "\n",
    "print(\"a\\tValor exacto\\t\\tAproximación\\t\\tError\")\n",
    "for i in range(1,11):\n",
    "    print(\"{}\\t{}\\t{}\\t{}\".format(i, valor_exacto[i-1], aproximaciones[i-1], errores[i-1]))"
   ]
  },
  {
   "cell_type": "markdown",
   "metadata": {},
   "source": [
    "**4.- Divida el intervalo $[1,2]$ en 100 partes iguales y aplique las fórmulas del rectángulo, Simpson y trapecio compuestas para aproximar la integral en dicho intervalo de $f_1$. Compare dichos resultados.**"
   ]
  },
  {
   "cell_type": "markdown",
   "metadata": {},
   "source": [
    "Lo primero que vamos a hacer es definir las fórmulas propuestas:"
   ]
  },
  {
   "cell_type": "code",
   "execution_count": 21,
   "metadata": {},
   "outputs": [],
   "source": [
    "def formula_rectangulo_izquierda(f, a, b, nx):\n",
    "    h = (b-a)/nx\n",
    "    return h*sum([f(a+i*h) for i in range(0,nx)])\n",
    "\n",
    "def formula_rectangulo_derecha(f, a, b, nx):\n",
    "    h = (b-a)/nx\n",
    "    return h*sum([f(a+(i+1)*h) for i in range(0,nx)])\n",
    "\n",
    "def formula_simpson(f, a, b, nx):\n",
    "    h = (b-a)/nx\n",
    "    m = int(nx/2)\n",
    "    P = sum([f(a+2*i*h) for i in range(1,m)])\n",
    "    I = sum([f(a+(2*i-1)*h) for i in range(1,m+1)])\n",
    "    E = f(a)+f(b)\n",
    "    return h/3*(E+2*P+4*I)\n",
    "\n",
    "def formula_trapecio(f, a, b, nx):\n",
    "    h = (b-a)/nx\n",
    "    return h/2*(f(a)+2*sum([f(a+i*h) for i in range(1,nx)])+f(b))"
   ]
  },
  {
   "cell_type": "markdown",
   "metadata": {},
   "source": [
    "Vamos ahora a definir nuestra función:"
   ]
  },
  {
   "cell_type": "code",
   "execution_count": 22,
   "metadata": {},
   "outputs": [],
   "source": [
    "def f(z):\n",
    "    return z**z\n",
    "\n",
    "a, b = 1, 2\n",
    "n = 100"
   ]
  },
  {
   "cell_type": "markdown",
   "metadata": {},
   "source": [
    "No tenemos una forma exacta de conocer el valor de la integral, aún así, vamos a tomar por el valor \"exacto\" al que obtenemos al utilizar el método `quad` de `scipy`"
   ]
  },
  {
   "cell_type": "code",
   "execution_count": 23,
   "metadata": {},
   "outputs": [
    {
     "name": "stdout",
     "output_type": "stream",
     "text": [
      "El valor exacto es  2.050446234534731 con error 2.2764526203364124e-14\n"
     ]
    }
   ],
   "source": [
    "valor_exacto, error = quad(f, a, b)\n",
    "print(\"El valor exacto es \", valor_exacto, \"con error\", error)"
   ]
  },
  {
   "cell_type": "markdown",
   "metadata": {},
   "source": [
    "Nos quedamos con que el error de este método es del orden de $10^{-14}$. Vamos ya a aplicar las distintas fórmulas:"
   ]
  },
  {
   "cell_type": "code",
   "execution_count": 24,
   "metadata": {},
   "outputs": [
    {
     "name": "stdout",
     "output_type": "stream",
     "text": [
      "Para el rectángulo por la izquierda obtenemos  2.0354943390855573 con error  0.014951895449173858\n",
      "Para el rectángulo por la derecha obtenemos  2.065494339085557 con error  0.015048104550825947\n",
      "Para la fórmula de Simpson obtenemos  2.050446235955426 con error  1.4206946730155323e-09\n",
      "Para la fórmula del trapecio obtenemos  2.0504943390855574 con error  4.8104550826266745e-05\n"
     ]
    }
   ],
   "source": [
    "aproximacion = formula_rectangulo_izquierda(f, a, b, n)\n",
    "error = abs(aproximacion-valor_exacto)\n",
    "print(\"Para el rectángulo por la izquierda obtenemos \", aproximacion, \"con error \", error)\n",
    "\n",
    "aproximacion = formula_rectangulo_derecha(f, a, b, n)\n",
    "error = abs(aproximacion-valor_exacto)\n",
    "print(\"Para el rectángulo por la derecha obtenemos \", aproximacion, \"con error \", error)\n",
    "\n",
    "aproximacion = formula_simpson(f, a, b, n)\n",
    "error = abs(aproximacion-valor_exacto)\n",
    "print(\"Para la fórmula de Simpson obtenemos \", aproximacion, \"con error \", error)\n",
    "\n",
    "aproximacion = formula_trapecio(f, a, b, n)\n",
    "error = abs(aproximacion-valor_exacto)\n",
    "print(\"Para la fórmula del trapecio obtenemos \", aproximacion, \"con error \", error)"
   ]
  },
  {
   "cell_type": "markdown",
   "metadata": {},
   "source": [
    "**5.- Repita el ejercicio 4 para $f_2$.**"
   ]
  },
  {
   "cell_type": "markdown",
   "metadata": {},
   "source": [
    "Vamos a definir nuestra función y repetir exactamente el mismo procedimiento que en el apartado anterior:"
   ]
  },
  {
   "cell_type": "code",
   "execution_count": 25,
   "metadata": {},
   "outputs": [],
   "source": [
    "def f(z):\n",
    "    return (z**2+40)/(z+(5*z)**(1/2)+7)"
   ]
  },
  {
   "cell_type": "code",
   "execution_count": 26,
   "metadata": {},
   "outputs": [
    {
     "name": "stdout",
     "output_type": "stream",
     "text": [
      "El valor exacto es  3.77658111776791 con error 4.192847311310543e-14\n",
      "Para el rectángulo por la izquierda obtenemos  3.778523202782093 con error  0.001942085014183359\n",
      "Para el rectángulo por la derecha obtenemos  3.774646194132547 con error  0.0019349236353627397\n",
      "Para la fórmula de Simpson obtenemos  3.776581117805272 con error  3.736211340310547e-11\n",
      "Para la fórmula del trapecio obtenemos  3.77658469845732 con error  3.5806894103096454e-06\n"
     ]
    }
   ],
   "source": [
    "valor_exacto, error = quad(f, a, b)\n",
    "print(\"El valor exacto es \", valor_exacto, \"con error\", error)\n",
    "\n",
    "aproximacion = formula_rectangulo_izquierda(f, a, b, n)\n",
    "error = abs(aproximacion-valor_exacto)\n",
    "print(\"Para el rectángulo por la izquierda obtenemos \", aproximacion, \"con error \", error)\n",
    "\n",
    "aproximacion = formula_rectangulo_derecha(f, a, b, n)\n",
    "error = abs(aproximacion-valor_exacto)\n",
    "print(\"Para el rectángulo por la derecha obtenemos \", aproximacion, \"con error \", error)\n",
    "\n",
    "aproximacion = formula_simpson(f, a, b, n)\n",
    "error = abs(aproximacion-valor_exacto)\n",
    "print(\"Para la fórmula de Simpson obtenemos \", aproximacion, \"con error \", error)\n",
    "\n",
    "aproximacion = formula_trapecio(f, a, b, n)\n",
    "error = abs(aproximacion-valor_exacto)\n",
    "print(\"Para la fórmula del trapecio obtenemos \", aproximacion, \"con error \", error)"
   ]
  },
  {
   "cell_type": "markdown",
   "metadata": {},
   "source": [
    "**6.- Sea $f_3(x)=x^{15} e^x$ en $[0,2]$. Vamos a dividir el intervalo en $10\\times 2^n$ subintervalos, es decir, $10,\\,20,\\,40,\\, 80,\\ldots $ y a aplicar la fórmula de Simpson compuesta hasta que la diferencia entre dos aproximaciones consecutivas (por ejemplo, podrían ser con $20$ y $40$ subintervalos) sea menor que $10^{-2}$, dando en tal caso por buena la última aproximación obtenida. Programe y calcule dicha aproximación. Compare ambas aproximaciones con el valor exacto.**"
   ]
  },
  {
   "cell_type": "code",
   "execution_count": 27,
   "metadata": {},
   "outputs": [],
   "source": [
    "def f(z):\n",
    "    return z**15*np.exp(z)\n",
    "\n",
    "a, b = 0, 2\n",
    "n = 10"
   ]
  },
  {
   "cell_type": "markdown",
   "metadata": {},
   "source": [
    "Simplemente hacemos un pequeño bucle que vaya calculando la fórmula de Simpson en los subintervalos y no pare hasta obtener la precisión deseada:"
   ]
  },
  {
   "cell_type": "code",
   "execution_count": 28,
   "metadata": {},
   "outputs": [
    {
     "name": "stdout",
     "output_type": "stream",
     "text": [
      "El numero de subintervalos es  1280  y la aproximacion es  27062.702480891214\n",
      "El error cometido es  6.699160439893603e-05\n"
     ]
    }
   ],
   "source": [
    "old_aprox = formula_simpson(f, a, b, n)\n",
    "n*=2\n",
    "\n",
    "while True:\n",
    "    new_aprox = formula_simpson(f, a, b, n)\n",
    "    n *= 2\n",
    "    d = abs(old_aprox-new_aprox)\n",
    "    if (d<=10**(-2)):\n",
    "        break\n",
    "    old_aprox = new_aprox\n",
    "\n",
    "print(\"El numero de subintervalos es \", n, \" y la aproximacion es \", new_aprox)\n",
    "valor_real, error = quad(f,a,b)\n",
    "error = abs(valor_real-new_aprox)\n",
    "print(\"El error cometido es \", error)"
   ]
  },
  {
   "cell_type": "markdown",
   "metadata": {},
   "source": [
    "**7.- Calcule las fórmulas gaussianas con $2$ y $3$ nodos,en el intervalo $[-1,1]$, siendo la función peso el valor absoluto de la variable. Aplíquelas para aproximar la función $x\\; e^x$ en $[-1,1]$ y compare los resultados con el valor exacto (organizando los cálculos de forma adecuada).**"
   ]
  },
  {
   "cell_type": "markdown",
   "metadata": {},
   "source": [
    "Voy a empezar programando una función para los nodos:"
   ]
  },
  {
   "cell_type": "code",
   "execution_count": 29,
   "metadata": {},
   "outputs": [],
   "source": [
    "def get_nodos_gauss(w, a, b, n):\n",
    "    x = sp.Symbol('x')\n",
    "    grexact = 2*n-1\n",
    "    \n",
    "    p = sp.symbols('p0:'+ str(n))\n",
    "    nodos = list(p)\n",
    "    c = sp.symbols('c0:'+ str(n))\n",
    "    coefs = list(c)\n",
    "    \n",
    "    incogs = nodos + coefs\n",
    "    ecs = [np.dot([(z**i).subs({z:nodos[j]}) \\\n",
    "                   for j in range(n)],coefs)-sp.integrate(w(x)*x**i,(x,a,b)) \\\n",
    "                       for i in range(grexact+1)]\n",
    "    solsGauss = sp.solve(ecs,incogs)\n",
    "    \n",
    "    for i in range(n):\n",
    "        nodos[i] = solsGauss[0][i]\n",
    "        coefs[i] = solsGauss[0][n+i]\n",
    "    \n",
    "    return [{'coef': coefs[i], 'nodo': nodos[i]} for i in range(n)]"
   ]
  },
  {
   "cell_type": "markdown",
   "metadata": {},
   "source": [
    "Vamos ahora a crear una función valor absoluto:"
   ]
  },
  {
   "cell_type": "code",
   "execution_count": 30,
   "metadata": {},
   "outputs": [],
   "source": [
    "def w(x):\n",
    "    return abs(x)"
   ]
  },
  {
   "cell_type": "markdown",
   "metadata": {},
   "source": [
    "Y vamos a crear dos y tres nodos con los datos del enunciado:"
   ]
  },
  {
   "cell_type": "code",
   "execution_count": 33,
   "metadata": {},
   "outputs": [
    {
     "data": {
      "text/plain": [
       "[{'coef': 1/2, 'nodo': -sqrt(2)/2}, {'coef': 1/2, 'nodo': sqrt(2)/2}]"
      ]
     },
     "execution_count": 33,
     "metadata": {},
     "output_type": "execute_result"
    }
   ],
   "source": [
    "ng2 = get_nodos_gauss(w, -1, 1, 2)\n",
    "ng2"
   ]
  },
  {
   "cell_type": "code",
   "execution_count": 34,
   "metadata": {},
   "outputs": [
    {
     "data": {
      "text/plain": [
       "[{'coef': 1/4, 'nodo': 0},\n",
       " {'coef': 3/8, 'nodo': -sqrt(6)/3},\n",
       " {'coef': 3/8, 'nodo': sqrt(6)/3}]"
      ]
     },
     "execution_count": 34,
     "metadata": {},
     "output_type": "execute_result"
    }
   ],
   "source": [
    "ng3 = get_nodos_gauss(w, -1, 1, 3)\n",
    "ng3"
   ]
  },
  {
   "cell_type": "markdown",
   "metadata": {},
   "source": [
    "Vamos ahora a intentar aproximar:\n",
    "\n",
    "$\\int_{-1}^{1}\\omega(x)xe^x=\\int_{-1}^{1}\\left | x\\right |xe^x$\n",
    "\n",
    "Para ello emp'ezamos calculando su valor \"real\":"
   ]
  },
  {
   "cell_type": "code",
   "execution_count": 35,
   "metadata": {},
   "outputs": [],
   "source": [
    "def f(x):\n",
    "    return x*sp.exp(x)"
   ]
  },
  {
   "cell_type": "code",
   "execution_count": 37,
   "metadata": {},
   "outputs": [
    {
     "name": "stdout",
     "output_type": "stream",
     "text": [
      "El valor exacto de la integral es  0.557679034316257\n"
     ]
    }
   ],
   "source": [
    "valor_exacto = sp.integrate(w(z)*f(z), [z,-1,1])\n",
    "print(\"El valor exacto de la integral es \", valor_exacto.evalf())"
   ]
  },
  {
   "cell_type": "markdown",
   "metadata": {},
   "source": [
    "Vamos a crear un pequeño algoritmo para aproximar por la fórmula gaussiana"
   ]
  },
  {
   "cell_type": "code",
   "execution_count": 39,
   "metadata": {},
   "outputs": [],
   "source": [
    "def evaluar_gauss(f, nodos_gauss):\n",
    "    aprox = 0\n",
    "    for nodo in nodos_gauss:\n",
    "        aprox += nodo['coef']*f(nodo['nodo'])\n",
    "\n",
    "    return aprox"
   ]
  },
  {
   "cell_type": "markdown",
   "metadata": {},
   "source": [
    "Ya solo queda aplicar lo que tenemos y obtenemos:"
   ]
  },
  {
   "cell_type": "code",
   "execution_count": 40,
   "metadata": {},
   "outputs": [
    {
     "name": "stdout",
     "output_type": "stream",
     "text": [
      "Valor exacto: -4 + 5*exp(-1) + E\n",
      "\n",
      "n\tAproximación\t\tError\n",
      "2\t0.542720820636303\t-E - 5*exp(-1) + 4.5427208206363\n",
      "3\t0.557437075708894\t-E - 5*exp(-1) + 4.55743707570889\n"
     ]
    }
   ],
   "source": [
    "valores_aproximados = {}\n",
    "valores_aproximados[2] = evaluar_gauss(f, ng2).evalf()\n",
    "valores_aproximados[3] = evaluar_gauss(f, ng3).evalf()\n",
    "print(\"Valor exacto: {}\\n\".format(valor_exacto))\n",
    "\n",
    "print(\"n\\tAproximación\\t\\tError\")\n",
    "for i in [2, 3]:\n",
    "    print(\"{}\\t{}\\t{}\".format(i, valores_aproximados[i], valores_aproximados[i]-valor_exacto))"
   ]
  }
 ],
 "metadata": {
  "interpreter": {
   "hash": "aee8b7b246df8f9039afb4144a1f6fd8d2ca17a180786b69acc140d282b71a49"
  },
  "kernelspec": {
   "display_name": "Python 3.9.2 64-bit",
   "language": "python",
   "name": "python3"
  },
  "language_info": {
   "codemirror_mode": {
    "name": "ipython",
    "version": 3
   },
   "file_extension": ".py",
   "mimetype": "text/x-python",
   "name": "python",
   "nbconvert_exporter": "python",
   "pygments_lexer": "ipython3",
   "version": "3.9.12"
  },
  "orig_nbformat": 4
 },
 "nbformat": 4,
 "nbformat_minor": 2
}
