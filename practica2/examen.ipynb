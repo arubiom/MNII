{
 "cells": [
  {
   "cell_type": "markdown",
   "metadata": {},
   "source": [
    "## Alejandro Rubio Martínez"
   ]
  },
  {
   "cell_type": "code",
   "execution_count": 1,
   "metadata": {},
   "outputs": [],
   "source": [
    "import numpy as np\n",
    "import sympy as sp\n",
    "from scipy.integrate import quad\n",
    "import matplotlib.pyplot as plt"
   ]
  },
  {
   "cell_type": "markdown",
   "metadata": {},
   "source": [
    "Vamos a empezar por declarar los datos que vamos a usar:"
   ]
  },
  {
   "cell_type": "code",
   "execution_count": 2,
   "metadata": {},
   "outputs": [],
   "source": [
    "def f(z):\n",
    "    return 46*z**5.75*np.log(z)\n",
    "\n",
    "a, b = 1, 8\n",
    "n = 10"
   ]
  },
  {
   "cell_type": "markdown",
   "metadata": {},
   "source": [
    "Ahora vamos a declarar el algoritmo de Simpson:"
   ]
  },
  {
   "cell_type": "code",
   "execution_count": 3,
   "metadata": {},
   "outputs": [],
   "source": [
    "def formula_simpson(f, a, b, nx):\n",
    "    h = (b-a)/nx\n",
    "    m = int(nx/2)\n",
    "    P = sum([f(a+2*i*h) for i in range(1,m)])\n",
    "    I = sum([f(a+(2*i-1)*h) for i in range(1,m+1)])\n",
    "    E = f(a)+f(b)\n",
    "    return h/3*(E+2*P+4*I)"
   ]
  },
  {
   "cell_type": "markdown",
   "metadata": {},
   "source": [
    "Vamos a calcular el valor real de la integral. Para ello usamos el método quad, que aunque no es exacto, vamos a observar como tiene un error pequeño:"
   ]
  },
  {
   "cell_type": "code",
   "execution_count": 4,
   "metadata": {},
   "outputs": [
    {
     "name": "stdout",
     "output_type": "stream",
     "text": [
      "La solución \"exacta\" es  16411933.654128397  con error  1.8220906621433826e-07\n"
     ]
    }
   ],
   "source": [
    "valor_real, error = quad(f,a,b)\n",
    "print(\"La solución \\\"exacta\\\" es \", valor_real, \" con error \", error)"
   ]
  },
  {
   "cell_type": "markdown",
   "metadata": {},
   "source": [
    "Ya sólo nos queda realizar un pequeño bucle que cumpla con lo que nos pide el enunciado:"
   ]
  },
  {
   "cell_type": "code",
   "execution_count": 6,
   "metadata": {},
   "outputs": [
    {
     "name": "stdout",
     "output_type": "stream",
     "text": [
      "El numero de subintervalos es  20480  y la aproximacion es  16411933.65412839\n",
      "El error cometido es  7.450580596923828e-09\n"
     ]
    }
   ],
   "source": [
    "old_aprox = formula_simpson(f, a, b, n)\n",
    "n*=2\n",
    "\n",
    "while True:\n",
    "    new_aprox = formula_simpson(f, a, b, n)\n",
    "    n *= 2\n",
    "    d = abs(old_aprox-new_aprox)\n",
    "    if (d<=10**(-6)):\n",
    "        break\n",
    "    old_aprox = new_aprox\n",
    "\n",
    "error = abs(valor_real-new_aprox)\n",
    "print(\"El numero de subintervalos es \", n, \" y la aproximacion es \", new_aprox)\n",
    "print(\"El error cometido es \", error)"
   ]
  }
 ],
 "metadata": {
  "interpreter": {
   "hash": "aee8b7b246df8f9039afb4144a1f6fd8d2ca17a180786b69acc140d282b71a49"
  },
  "kernelspec": {
   "display_name": "Python 3.9.2 64-bit",
   "language": "python",
   "name": "python3"
  },
  "language_info": {
   "codemirror_mode": {
    "name": "ipython",
    "version": 3
   },
   "file_extension": ".py",
   "mimetype": "text/x-python",
   "name": "python",
   "nbconvert_exporter": "python",
   "pygments_lexer": "ipython3",
   "version": "3.9.2"
  },
  "orig_nbformat": 4
 },
 "nbformat": 4,
 "nbformat_minor": 2
}
