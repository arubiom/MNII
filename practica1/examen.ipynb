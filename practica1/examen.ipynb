{
 "cells": [
  {
   "cell_type": "markdown",
   "metadata": {},
   "source": [
    "Alejandro Rubio Martínez"
   ]
  },
  {
   "cell_type": "markdown",
   "metadata": {},
   "source": [
    "Importe de las bibliotecas usadas y la función usada:"
   ]
  },
  {
   "cell_type": "code",
   "execution_count": 40,
   "metadata": {},
   "outputs": [],
   "source": [
    "import numpy as np\n",
    "import matplotlib.pyplot as plt\n",
    "import sympy as sp\n",
    "from decimal import *\n",
    "from sympy.solvers import solve, nsolve\n",
    "mporig=16"
   ]
  },
  {
   "cell_type": "code",
   "execution_count": 41,
   "metadata": {},
   "outputs": [],
   "source": [
    "def biseccion(f, a, b, cifras=16, prec=10**(-16), nmax=100):\n",
    "    a,b = Decimal(a), Decimal(b)\n",
    "    niter = 0; sale =''\n",
    "    getcontext().prec = cifras\n",
    "    tol = 10**(-(cifras))\n",
    "    for k in range(nmax):\n",
    "        niter = niter + 1;\n",
    "        c = a + (b-a)/2\n",
    "        if abs(f(c)) < prec:\n",
    "            sale = 'precision'\n",
    "            break\n",
    "        if np.sign(f(a)) != np.sign(f(c)):\n",
    "            b = c\n",
    "        else:\n",
    "            a = c\n",
    "        if b-a < tol:\n",
    "            sale = 'tolerancia'\n",
    "            break\n",
    "\n",
    "    if sale == 'precision':\n",
    "        print('Posiblemente solución exacta: ', c)\n",
    "    elif niter < nmax:\n",
    "        print('Aproximación solicitada: ', c)\n",
    "    else:\n",
    "        print('Se llegó al número máximo de iteraciones con aproximación ', c)\n",
    "    print('Número total de iteraciones ', niter)\n",
    "\n",
    "    getcontext().prec = mporig\n",
    "    return c"
   ]
  },
  {
   "cell_type": "code",
   "execution_count": 42,
   "metadata": {},
   "outputs": [],
   "source": [
    "def newtonRaphson(f, df, b, cifras=16, prec=10**(-16), nmax=100):\n",
    "    getcontext().prec = cifras\n",
    "    x0 = Decimal(b); niter = 0; sale =''\n",
    "    tol=10**(-(cifras+1))\n",
    "    \n",
    "    for k in range(nmax):\n",
    "        niter = niter + 1;\n",
    "        x1 = x0 - f(x0)/df(x0)\n",
    "        if abs(x1-x0) < tol:\n",
    "            sale = 'tolerancia'\n",
    "            break\n",
    "        if abs(f(x1)) < prec:\n",
    "            sale = 'precision'\n",
    "            break\n",
    "        else:\n",
    "            x0 = x1\n",
    "                    \n",
    "    if sale == 'precision':\n",
    "        print('Posiblemente solución exacta: ',x1)\n",
    "    elif niter < nmax:\n",
    "        print('Aproximación solicitada: ', x1)\n",
    "    else:\n",
    "        print('Se llegó al número máximo de iteraciones con aproximación', x1)\n",
    "\n",
    "    print('Número total de iteraciones ', niter)\n",
    "\n",
    "    getcontext().prec = mporig\n",
    "    return x1"
   ]
  },
  {
   "cell_type": "markdown",
   "metadata": {},
   "source": [
    "Vamos a empezar definiendo la función con la que vamos a trabajar y su respectiva derivada:"
   ]
  },
  {
   "cell_type": "code",
   "execution_count": 43,
   "metadata": {},
   "outputs": [],
   "source": [
    "x=sp.Symbol('x')\n",
    "a,b=-4,-3\n",
    "a0,b0=a,b\n",
    "\n",
    "def f(x):\n",
    "    return x**3+Decimal(5.75)*x+46\n",
    "\n",
    "def df(x):\n",
    "    return 3*x**2+Decimal(5.75)"
   ]
  },
  {
   "cell_type": "markdown",
   "metadata": {},
   "source": [
    "Empecemos esbozándola en un intervalo amplio:"
   ]
  },
  {
   "cell_type": "code",
   "execution_count": 44,
   "metadata": {},
   "outputs": [
    {
     "data": {
      "image/png": "[encoded data removed]",
      "text/plain": [
       "<Figure size 432x288 with 1 Axes>"
      ]
     },
     "metadata": {
      "needs_background": "light"
     },
     "output_type": "display_data"
    },
    {
     "data": {
      "text/plain": [
       "<sympy.plotting.plot.Plot at 0x1187d37c0>"
      ]
     },
     "execution_count": 44,
     "metadata": {},
     "output_type": "execute_result"
    }
   ],
   "source": [
    "sp.plot(f(x),(x,-5,5))"
   ]
  },
  {
   "cell_type": "markdown",
   "metadata": {},
   "source": [
    "Vamos a pintarla en el intervalo $[-4,-3]$, que es donde parece que estará su solución real:"
   ]
  },
  {
   "cell_type": "code",
   "execution_count": 45,
   "metadata": {},
   "outputs": [
    {
     "data": {
      "image/png": "[encoded data removed]",
      "text/plain": [
       "<Figure size 432x288 with 1 Axes>"
      ]
     },
     "metadata": {
      "needs_background": "light"
     },
     "output_type": "display_data"
    },
    {
     "data": {
      "text/plain": [
       "<sympy.plotting.plot.Plot at 0x118862790>"
      ]
     },
     "execution_count": 45,
     "metadata": {},
     "output_type": "execute_result"
    }
   ],
   "source": [
    "sp.plot(f(x),(x,a,b))"
   ]
  },
  {
   "cell_type": "markdown",
   "metadata": {},
   "source": [
    "Podemos observar un cambio de signo por lo que en este intervalo se encuentra una raíz."
   ]
  },
  {
   "cell_type": "markdown",
   "metadata": {},
   "source": [
    "Antes de utilizar el algoritmo de bisección, vamos a calcular el número de iteraciones necesarias:"
   ]
  },
  {
   "cell_type": "code",
   "execution_count": 46,
   "metadata": {},
   "outputs": [
    {
     "name": "stdout",
     "output_type": "stream",
     "text": [
      "Numero de iteraciones necesarias:  6.0\n"
     ]
    }
   ],
   "source": [
    "n = np.log((b-a)/10**(-2))/np.log(2)-1\n",
    "print(\"Numero de iteraciones necesarias: \", np.ceil(n))"
   ]
  },
  {
   "cell_type": "markdown",
   "metadata": {},
   "source": [
    "Vamos a buscarla utilizando el método de la bisección con error una décima (cifras significativas = 2). Como hemos calculado antes, podemos especificar que no realiza más de 6 iteraciones."
   ]
  },
  {
   "cell_type": "code",
   "execution_count": 49,
   "metadata": {},
   "outputs": [
    {
     "name": "stdout",
     "output_type": "stream",
     "text": [
      "Se llegó al número máximo de iteraciones con aproximación  -3.0\n",
      "Número total de iteraciones  6\n",
      "La solución exacta es:  -3.05266834531355\n"
     ]
    }
   ],
   "source": [
    "biseccion(f,a,b,2, 10**(-16),6)\n",
    "a,b=a0,b0\n",
    "print(\"La solución exacta es: \", sp.solve(f(x),x)[0].evalf())"
   ]
  },
  {
   "cell_type": "markdown",
   "metadata": {},
   "source": [
    "Por errores de redondeo podemos ver como no la encuentra exactamente."
   ]
  },
  {
   "cell_type": "markdown",
   "metadata": {},
   "source": [
    "Vamos ahora a usar el algoritmo de Newton-Raphson. Como queremos exactamente 10 iteraciones vamos a proporcionar unos valores muy restrictivos de precisión y tolerancia."
   ]
  },
  {
   "cell_type": "markdown",
   "metadata": {},
   "source": [
    "Vamos a escoger de valor b uno cercano, por ejemplo, el -3"
   ]
  },
  {
   "cell_type": "code",
   "execution_count": 48,
   "metadata": {},
   "outputs": [
    {
     "name": "stdout",
     "output_type": "stream",
     "text": [
      "Se llegó al número máximo de iteraciones con aproximación -3.052668345313549296307278576139257207587998232911502091600874311\n",
      "Número total de iteraciones  10\n",
      "La solución exacta es:  -3.052668345313549469466352093149907886981964111328125000000000000\n"
     ]
    }
   ],
   "source": [
    "newtonRaphson(f,df,b,64,10**(-64),10)\n",
    "a,b=a0,b0\n",
    "print(\"La solución exacta es: \", sp.solve(f(x),x)[0].evalf(n=64))"
   ]
  }
 ],
 "metadata": {
  "interpreter": {
   "hash": "aee8b7b246df8f9039afb4144a1f6fd8d2ca17a180786b69acc140d282b71a49"
  },
  "kernelspec": {
   "display_name": "Python 3.9.2 64-bit",
   "language": "python",
   "name": "python3"
  },
  "language_info": {
   "codemirror_mode": {
    "name": "ipython",
    "version": 3
   },
   "file_extension": ".py",
   "mimetype": "text/x-python",
   "name": "python",
   "nbconvert_exporter": "python",
   "pygments_lexer": "ipython3",
   "version": "3.9.2"
  },
  "orig_nbformat": 4
 },
 "nbformat": 4,
 "nbformat_minor": 2
}
