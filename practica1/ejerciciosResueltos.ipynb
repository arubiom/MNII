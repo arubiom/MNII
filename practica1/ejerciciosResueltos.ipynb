{
 "cells": [
  {
   "cell_type": "markdown",
   "metadata": {},
   "source": [
    "Vamos a definir primero las funciones que vamos a utilizar a lo largo de los ejercicios:"
   ]
  },
  {
   "cell_type": "code",
   "execution_count": 109,
   "metadata": {},
   "outputs": [],
   "source": [
    "import numpy as np\n",
    "import matplotlib.pyplot as plt\n",
    "import sympy as sp\n",
    "from decimal import *\n",
    "from sympy.solvers import solve, nsolve\n",
    "mporig=16"
   ]
  },
  {
   "cell_type": "code",
   "execution_count": 110,
   "metadata": {},
   "outputs": [],
   "source": [
    "def biseccion(f, a, b, cifras=16, prec=10**(-16), nmax=100):\n",
    "    a,b = Decimal(a), Decimal(b)\n",
    "    niter = 0; sale =''\n",
    "    getcontext().prec = cifras\n",
    "    tol = 10**(-(cifras+1))\n",
    "    for k in range(nmax):\n",
    "        niter = niter + 1;\n",
    "        c = a + (b-a)/2 # equivalente a c = (a+b)/2\n",
    "        if abs(f(c)) < prec:\n",
    "            sale = 'precision'\n",
    "            break\n",
    "        if np.sign(f(a)) != np.sign(f(c)):\n",
    "            b = c\n",
    "        else:\n",
    "            a = c\n",
    "        if b-a < tol:\n",
    "            sale = 'tolerancia'\n",
    "            break\n",
    "\n",
    "    if sale == 'precision':\n",
    "        print('Posiblemente solución exacta: ', c)\n",
    "    elif niter < nmax:\n",
    "        print('Aproximación solicitada: ', c)\n",
    "    else:\n",
    "        print('Se llegó al número máximo de iteraciones: ')\n",
    "    print('Número total de iteraciones ', niter)\n",
    "\n",
    "    getcontext().prec = mporig\n",
    "    return c"
   ]
  },
  {
   "cell_type": "code",
   "execution_count": 111,
   "metadata": {},
   "outputs": [],
   "source": [
    "def secante(f,a,b,cifras=16,prec=10**(-16),nmax=100):    \n",
    "    x0 = Decimal(a); x1 = Decimal(b); sale =''\n",
    "    niter = 0; getcontext().prec = mporig\n",
    "    for k in range(nmax):\n",
    "        niter = niter + 1;\n",
    "        c = x1 - (x0-x1)/(f(x0)-f(x1))*f(x1) \n",
    "        if abs(f(c)) < prec:\n",
    "            sale = 'precision'\n",
    "            break\n",
    "        else:\n",
    "            x1,x0 = c,x1\n",
    "        if abs(x1-x0) < tol:\n",
    "            sale = 'tolerancia'\n",
    "            break\n",
    "\n",
    "    if sale == 'precision':\n",
    "        print('Posiblemente solución exacta: ', c)\n",
    "    elif niter < nmax:\n",
    "        print('Aproximación solicitada: ', c)\n",
    "    else:\n",
    "        print('Se llegó al número máximo de iteraciones')\n",
    "    print('Solución exacta con ', cifras, ' cifras significativas', nsolve(f(x),x,0))\n",
    "    print('Número total de iteraciones ', niter)\n",
    "\n",
    "    getcontext().prec = mporig \n",
    "    return c"
   ]
  },
  {
   "cell_type": "code",
   "execution_count": 112,
   "metadata": {},
   "outputs": [],
   "source": [
    "def newtonRaphson(f, df, b, cifras=16, prec=10**(-16), nmax=100):\n",
    "    getcontext().prec = cifras\n",
    "    x0 = Decimal(b); niter = 0; sale =''\n",
    "    tol=10**(-(cifras+1))\n",
    "    \n",
    "    for k in range(nmax):\n",
    "        niter = niter + 1;\n",
    "        x1 = x0 - f(x0)/df(x0)\n",
    "        if abs(x1-x0) < tol:\n",
    "            sale = 'tolerancia'\n",
    "            break\n",
    "        if abs(f(x1)) < prec:\n",
    "            sale = 'precision'\n",
    "            break\n",
    "        else:\n",
    "            x0 = x1\n",
    "                    \n",
    "    print('sale el programa por ',sale)\n",
    "    if sale == 'precision':\n",
    "        print('Posiblemente solución exacta: ',x1)\n",
    "    elif niter < nmax:\n",
    "        print('Aproximación solicitada: ', x1)\n",
    "    else:\n",
    "        print('Se llegó al número máximo de iteraciones')\n",
    "\n",
    "    print('Número total de iteraciones ', niter)\n",
    "\n",
    "    getcontext().prec = mporig\n",
    "    return x1"
   ]
  },
  {
   "cell_type": "markdown",
   "metadata": {},
   "source": [
    "**1.- Demuestre que la ecuación  $x^3+4 x^2=10  $  tiene una única raíz en el intervalo $[1,2]$.  Aproxime dicha raíz con el método de bisección con al menos 3 cifras decimales exactas. ¿Cuántas iteraciones serán necesarias para conseguir 5 cifras decimales exactas (tol =$10^{-5}$)?  Aproxime también la raíz con el método de Newton-Raphson partiendo del extremo adecuado hasta que la diferencia en valor absoluto, entre dos aproximaciones consecutivas sea  inferior a  $10^{-3}$.**"
   ]
  },
  {
   "cell_type": "markdown",
   "metadata": {},
   "source": [
    "Para empezar vamos a ver que la ecuación solo tiene una raíz en el intervalo [1,2]. Para ello basta ver con el Teorema de Bolzano (la función es continua) que solo se produce un ncambio de signo. Pero lo que nos interesa es verlo utilizando python así que pintémosla gráficamente:"
   ]
  },
  {
   "cell_type": "markdown",
   "metadata": {},
   "source": [
    "Para ello empezemos definiendo nuestra función $ f(x) = x^3 + 4x^2 - 10 $.\n"
   ]
  },
  {
   "cell_type": "code",
   "execution_count": 113,
   "metadata": {},
   "outputs": [],
   "source": [
    "x = sp.Symbol('x')\n",
    "a=1.0\n",
    "b=2.0\n",
    "\n",
    "a0,b0 = a,b\n",
    "\n",
    "def f(x):\n",
    "    return x**3+4*x**2-10"
   ]
  },
  {
   "cell_type": "markdown",
   "metadata": {},
   "source": [
    "Ahora dibujémosla:"
   ]
  },
  {
   "cell_type": "code",
   "execution_count": 114,
   "metadata": {},
   "outputs": [
    {
     "data": {
      "image/png": "[encoded data removed]",
      "text/plain": [
       "<Figure size 432x288 with 1 Axes>"
      ]
     },
     "metadata": {
      "needs_background": "light"
     },
     "output_type": "display_data"
    },
    {
     "data": {
      "text/plain": [
       "<sympy.plotting.plot.Plot at 0x11a1b6400>"
      ]
     },
     "execution_count": 114,
     "metadata": {},
     "output_type": "execute_result"
    }
   ],
   "source": [
    "sp.plot(f(x), (x,a,b))"
   ]
  },
  {
   "cell_type": "markdown",
   "metadata": {},
   "source": [
    "En la gráfica es fácilmente observable como solo ocurre un cambio de signo. Ahora vamos a usar el algoritmo de bisección para obetenr una solución con tres cifras decimales exactas."
   ]
  },
  {
   "cell_type": "code",
   "execution_count": 115,
   "metadata": {},
   "outputs": [
    {
     "name": "stdout",
     "output_type": "stream",
     "text": [
      "Posiblemente solución exacta:  1.365230013414097\n",
      "Número total de iteraciones  50\n",
      "La solucion exacta es  1.36523001341410\n"
     ]
    }
   ],
   "source": [
    "biseccion(f,a,b)\n",
    "a,b = a0,b0\n",
    "print(\"La solucion exacta es \", sp.solve(f(x),x)[2].evalf())"
   ]
  },
  {
   "cell_type": "markdown",
   "metadata": {},
   "source": [
    "Ahora vamos a repetir el mismo paso pero buscando 5 cifras decimales exactas y vamos a fijarnos en el número de iteraciones."
   ]
  },
  {
   "cell_type": "markdown",
   "metadata": {},
   "source": [
    "Para calcular el numero de iteraciones hacemos:"
   ]
  },
  {
   "cell_type": "code",
   "execution_count": 116,
   "metadata": {},
   "outputs": [
    {
     "name": "stdout",
     "output_type": "stream",
     "text": [
      "Numero de iteraciones:  13.0\n"
     ]
    }
   ],
   "source": [
    "n = np.log((b-a)/10**(-4))/np.log(2)-1\n",
    "print(\"Numero de iteraciones: \", np.ceil(n))"
   ]
  },
  {
   "cell_type": "markdown",
   "metadata": {},
   "source": [
    "Ahora vamos a utilizar el método de Newton-Raphson con una precisión de $10^-3$. Para ello empezamos calculando la derivada de la función:"
   ]
  },
  {
   "cell_type": "code",
   "execution_count": 117,
   "metadata": {},
   "outputs": [],
   "source": [
    "def df(x):\n",
    "    return 3*x**2+8*x"
   ]
  },
  {
   "cell_type": "code",
   "execution_count": 118,
   "metadata": {},
   "outputs": [
    {
     "name": "stdout",
     "output_type": "stream",
     "text": [
      "sale el programa por  tolerancia\n",
      "Aproximación solicitada:  1.365\n",
      "Número total de iteraciones  4\n",
      "La solución exacta es  1.36523001341410\n"
     ]
    }
   ],
   "source": [
    "b=1.0\n",
    "newtonRaphson(f,df,b,4)\n",
    "print(\"La solución exacta es \", sp.solve(f(x), x)[2].evalf())"
   ]
  },
  {
   "cell_type": "markdown",
   "metadata": {},
   "source": [
    "**2.- Encuentre una aproximación de la raíz cúbica de 25 con dos decimales exactos (tol =$10^{-2}$), usando el algoritmo de bisección.**"
   ]
  },
  {
   "cell_type": "markdown",
   "metadata": {},
   "source": [
    "Vamos a definir primero la función que queremos usar:"
   ]
  },
  {
   "cell_type": "code",
   "execution_count": 119,
   "metadata": {},
   "outputs": [],
   "source": [
    "x = sp.Symbol('x')\n",
    "a=2\n",
    "b=3\n",
    "\n",
    "a0,b0=a,b\n",
    "\n",
    "def f(x):\n",
    "    return x**3 - 25"
   ]
  },
  {
   "cell_type": "markdown",
   "metadata": {},
   "source": [
    "Vamos a ver gráficamente que no nos equivoquemos:"
   ]
  },
  {
   "cell_type": "code",
   "execution_count": 120,
   "metadata": {},
   "outputs": [
    {
     "data": {
      "image/png": "[encoded data removed]",
      "text/plain": [
       "<Figure size 432x288 with 1 Axes>"
      ]
     },
     "metadata": {
      "needs_background": "light"
     },
     "output_type": "display_data"
    },
    {
     "data": {
      "text/plain": [
       "<sympy.plotting.plot.Plot at 0x11a1b66a0>"
      ]
     },
     "execution_count": 120,
     "metadata": {},
     "output_type": "execute_result"
    }
   ],
   "source": [
    "sp.plot(f(x), (x,a,b))"
   ]
  },
  {
   "cell_type": "markdown",
   "metadata": {},
   "source": [
    "Ahora vamos a aplicar el algoritmo de la bisección, pues se ve claramente un cambio de signo:"
   ]
  },
  {
   "cell_type": "code",
   "execution_count": 121,
   "metadata": {},
   "outputs": [
    {
     "name": "stdout",
     "output_type": "stream",
     "text": [
      "Se llegó al número máximo de iteraciones: \n",
      "Número total de iteraciones  100\n",
      "La solucion de la funcion es  2.92401773821287\n"
     ]
    }
   ],
   "source": [
    "biseccion(f,a,b,3)\n",
    "a,b=a0,b0\n",
    "print(\"La solucion de la funcion es \", sp.solve(f(x),x)[0].evalf())"
   ]
  },
  {
   "cell_type": "markdown",
   "metadata": {},
   "source": [
    "**3.- Use el método de Newton-Raphson para aproximar las soluciones de las siguientes ecuaciones con tolerancia $10^{-5}$ , partiendo de un valor adecuado, próximo a cada una de ellas en cada caso.**\n",
    "\n",
    "**i) $x^3-x-1 = 0$  en $[1,2]$.**\n",
    "\n",
    "**ii) $3x=2+x^2-e^x$.**\n",
    "\n",
    "**iii) $x^2+10\\, cos x+x=0$.**  "
   ]
  },
  {
   "cell_type": "markdown",
   "metadata": {},
   "source": [
    "Vamos a empezar definiendo la primera función:"
   ]
  },
  {
   "cell_type": "code",
   "execution_count": 122,
   "metadata": {},
   "outputs": [],
   "source": [
    "x = sp.Symbol('x')\n",
    "a=1\n",
    "b=2\n",
    "\n",
    "a0,b0=a,b\n",
    "\n",
    "def f(x):\n",
    "    return x**3-x-1"
   ]
  },
  {
   "cell_type": "code",
   "execution_count": 123,
   "metadata": {},
   "outputs": [],
   "source": [
    "def df(x):\n",
    "    return 3*x**2-1"
   ]
  },
  {
   "cell_type": "markdown",
   "metadata": {},
   "source": [
    "Y finalmente aplicamos el algoritmo"
   ]
  },
  {
   "cell_type": "code",
   "execution_count": 124,
   "metadata": {},
   "outputs": [
    {
     "name": "stdout",
     "output_type": "stream",
     "text": [
      "sale el programa por  tolerancia\n",
      "Aproximación solicitada:  1.3247\n",
      "Número total de iteraciones  4\n",
      "La solucion de la funcion es  1.32471795724475\n"
     ]
    }
   ],
   "source": [
    "b=1.2\n",
    "newtonRaphson(f,df,b,5)\n",
    "print(\"La solucion de la funcion es \", sp.solve(f(x),x)[2].evalf())"
   ]
  },
  {
   "cell_type": "markdown",
   "metadata": {},
   "source": [
    "Ahora simplemente hacemos lo mismo redefiniendo la función"
   ]
  },
  {
   "cell_type": "code",
   "execution_count": 125,
   "metadata": {},
   "outputs": [],
   "source": [
    "a=0\n",
    "b=1\n",
    "\n",
    "def f(x):\n",
    "    return 2+x**2-3*x-sp.exp(x)\n",
    "\n",
    "def df(x):\n",
    "    return 2*x-3-sp.exp(x)"
   ]
  },
  {
   "cell_type": "code",
   "execution_count": 126,
   "metadata": {},
   "outputs": [
    {
     "name": "stdout",
     "output_type": "stream",
     "text": [
      "sale el programa por  tolerancia\n",
      "Aproximación solicitada:  0.257530285439861\n",
      "Número total de iteraciones  4\n",
      "La solucion de la funcion es  0.257530285439861\n"
     ]
    }
   ],
   "source": [
    "newtonRaphson(f,df,0,5)\n",
    "print(\"La solucion de la funcion es \", nsolve(f(x),x,0))"
   ]
  },
  {
   "cell_type": "markdown",
   "metadata": {},
   "source": [
    "Y una última vez:"
   ]
  },
  {
   "cell_type": "code",
   "execution_count": 127,
   "metadata": {},
   "outputs": [],
   "source": [
    "def f(x):\n",
    "    return x**2+10*sp.cos(x)+x\n",
    "\n",
    "def df(x):\n",
    "    return 2*x-10*sp.sin(x)+1"
   ]
  },
  {
   "cell_type": "code",
   "execution_count": 128,
   "metadata": {},
   "outputs": [
    {
     "name": "stdout",
     "output_type": "stream",
     "text": [
      "La primera solucion es  -3.56233149723641\n",
      "sale el programa por  tolerancia\n",
      "Aproximación solicitada:  -3.56233149723641\n",
      "Número total de iteraciones  6\n",
      "La segunda solución es  -1.68693989979924\n",
      "sale el programa por  tolerancia\n",
      "Aproximación solicitada:  -1.68693989979924\n",
      "Número total de iteraciones  5\n"
     ]
    },
    {
     "data": {
      "text/latex": [
       "$\\displaystyle -1.68693989979924$"
      ],
      "text/plain": [
       "-1.68693989979924"
      ]
     },
     "execution_count": 128,
     "metadata": {},
     "output_type": "execute_result"
    }
   ],
   "source": [
    "print(\"La primera solucion es \", nsolve(f(x),x,-3))\n",
    "newtonRaphson(f,df,-3,5)\n",
    "\n",
    "print(\"La segunda solución es \", nsolve(f(x), x, -1.5))\n",
    "newtonRaphson(f,df,-1.5)"
   ]
  },
  {
   "cell_type": "markdown",
   "metadata": {},
   "source": [
    "**4.- Para la función  $ f(x)= 3 x^2+e^x-1$,**\n",
    "\n",
    "**i) Encuentre, mediante el método de bisección una aproximación de la raíz en $[0,1]$ con, al menos, cuatro decimales exactos (tol =$10^{-4}$), y determine el número de iteraciones realizadas;**\n",
    "\n",
    "**ii) Encuentre, mediante el método de Newton-Raphson, una aproximación de la raíz en $[0,1]$ con una tolerancia de $10^{-4}$, partiendo de $x_0=0$, y determine el número de iteraciones realizadas.** "
   ]
  },
  {
   "cell_type": "markdown",
   "metadata": {},
   "source": [
    "Primero como siempre vamos a definir la función y esbozarla:"
   ]
  },
  {
   "cell_type": "code",
   "execution_count": 129,
   "metadata": {},
   "outputs": [],
   "source": [
    "def f(x):\n",
    "    return 3*x**2+sp.exp(x)-1\n",
    "\n",
    "def df(x):\n",
    "    return 6*x+sp.exp(x)\n",
    "\n",
    "a,b=0,1"
   ]
  },
  {
   "cell_type": "code",
   "execution_count": 130,
   "metadata": {},
   "outputs": [
    {
     "data": {
      "image/png": "[encoded data removed]",
      "text/plain": [
       "<Figure size 432x288 with 1 Axes>"
      ]
     },
     "metadata": {
      "needs_background": "light"
     },
     "output_type": "display_data"
    },
    {
     "data": {
      "text/plain": [
       "<sympy.plotting.plot.Plot at 0x11a1d05e0>"
      ]
     },
     "execution_count": 130,
     "metadata": {},
     "output_type": "execute_result"
    }
   ],
   "source": [
    "sp.plot(f(x),(x,a,b))"
   ]
  },
  {
   "cell_type": "markdown",
   "metadata": {},
   "source": [
    "Como la solución exacta es 0, no podemos aplicar el Teorema de Bolzano, así que solo vamos a calcular el número de iteraciones necesarias por el método de bisección."
   ]
  },
  {
   "cell_type": "code",
   "execution_count": 131,
   "metadata": {},
   "outputs": [
    {
     "name": "stdout",
     "output_type": "stream",
     "text": [
      "Son necesarias  13.0  iteraciones\n"
     ]
    }
   ],
   "source": [
    "n = np.log((b-a)/10**(-4))/np.log(2)-1\n",
    "print(\"Son necesarias \", np.ceil(n), \" iteraciones\")"
   ]
  },
  {
   "cell_type": "markdown",
   "metadata": {},
   "source": [
    "Vamos a usar ahora el método de Newton"
   ]
  },
  {
   "cell_type": "code",
   "execution_count": 132,
   "metadata": {},
   "outputs": [
    {
     "name": "stdout",
     "output_type": "stream",
     "text": [
      "sale el programa por  tolerancia\n",
      "Aproximación solicitada:  1.48252415799285e-13\n",
      "Número total de iteraciones  6\n",
      "La solucion de la funcion es  0\n"
     ]
    }
   ],
   "source": [
    "newtonRaphson(f,df,0.5,4)\n",
    "print(\"La solucion de la funcion es \", nsolve(f(x),x,0))"
   ]
  },
  {
   "cell_type": "markdown",
   "metadata": {},
   "source": [
    "**5.- Utilice las órdenes apropiadas de Python para aproximar todos los puntos donde se anulan las funciones siguientes (si es necesario, represéntelas gráficamente):**\n",
    "\n",
    "**i) $f(x)=x^7-x^4+2$ ,**\n",
    "\n",
    "**ii) $f(x)=x^7+\\cos  x-3$.**"
   ]
  },
  {
   "cell_type": "markdown",
   "metadata": {},
   "source": [
    "Primer apartado"
   ]
  },
  {
   "cell_type": "code",
   "execution_count": 133,
   "metadata": {},
   "outputs": [],
   "source": [
    "def f(x):\n",
    "    return x**7-x**4+2\n",
    "\n",
    "def df(x):\n",
    "    return 6*x**7-4*x**3\n",
    "\n",
    "a=-2\n",
    "b=0"
   ]
  },
  {
   "cell_type": "code",
   "execution_count": 134,
   "metadata": {},
   "outputs": [
    {
     "data": {
      "image/png": "[encoded data removed]",
      "text/plain": [
       "<Figure size 432x288 with 1 Axes>"
      ]
     },
     "metadata": {
      "needs_background": "light"
     },
     "output_type": "display_data"
    },
    {
     "data": {
      "text/plain": [
       "<sympy.plotting.plot.Plot at 0x11a2ea8e0>"
      ]
     },
     "execution_count": 134,
     "metadata": {},
     "output_type": "execute_result"
    }
   ],
   "source": [
    "sp.plot(f(x), (x,a,b))"
   ]
  },
  {
   "cell_type": "code",
   "execution_count": 135,
   "metadata": {},
   "outputs": [
    {
     "name": "stdout",
     "output_type": "stream",
     "text": [
      "Posiblemente solución exacta:  -1\n",
      "Número total de iteraciones  1\n",
      "La solucion exacta es  -1.00000000000000\n"
     ]
    }
   ],
   "source": [
    "biseccion(f,a,b)\n",
    "print(\"La solucion exacta es \", sp.solve(f(x),x)[0].evalf())"
   ]
  },
  {
   "cell_type": "markdown",
   "metadata": {},
   "source": [
    "Segundo apartado"
   ]
  },
  {
   "cell_type": "code",
   "execution_count": 136,
   "metadata": {},
   "outputs": [],
   "source": [
    "def f(x):\n",
    "    return x**7+sp.cos(x)-3\n",
    "\n",
    "def df(x):\n",
    "    return 6*x**7-4*sp.sin(x)\n",
    "\n",
    "a=1.0\n",
    "b=1.5"
   ]
  },
  {
   "cell_type": "code",
   "execution_count": 137,
   "metadata": {},
   "outputs": [
    {
     "data": {
      "image/png": "[encoded data removed]",
      "text/plain": [
       "<Figure size 432x288 with 1 Axes>"
      ]
     },
     "metadata": {
      "needs_background": "light"
     },
     "output_type": "display_data"
    },
    {
     "data": {
      "text/plain": [
       "<sympy.plotting.plot.Plot at 0x11a38b2e0>"
      ]
     },
     "execution_count": 137,
     "metadata": {},
     "output_type": "execute_result"
    }
   ],
   "source": [
    "sp.plot(f(x),(x,a,b))"
   ]
  },
  {
   "cell_type": "code",
   "execution_count": 138,
   "metadata": {},
   "outputs": [
    {
     "name": "stdout",
     "output_type": "stream",
     "text": [
      "Se llegó al número máximo de iteraciones: \n",
      "Número total de iteraciones  100\n",
      "La solucion exacta es  1.14545980727001\n"
     ]
    }
   ],
   "source": [
    "biseccion(f,a,b,5)\n",
    "print(\"La solucion exacta es \", sp.nsolve(f(x),x,1))"
   ]
  },
  {
   "cell_type": "markdown",
   "metadata": {},
   "source": [
    "**6.- Aplicar los métodos de aceleración de la convergencia de Aitken y Steffensen (según los apuntes) a las sucesiones obtenidas para los distintos métodos programados en esta práctica y comparar los resultados. Para aplicar el método de aceleración de Steffensen, recuerde que para transformar cualquier ecuación de la forma  $ f(x)=0 $  en un problema de puntos fijos  $ g(x)=x $, la forma más simple puede ser definir  $g(x)=x \\pm f(x)$.**"
   ]
  },
  {
   "cell_type": "markdown",
   "metadata": {},
   "source": [
    "Empecemos definiedo ambos métodos:"
   ]
  },
  {
   "cell_type": "code",
   "execution_count": 139,
   "metadata": {},
   "outputs": [],
   "source": [
    "def aitken(sucesion): \n",
    "    aceleracion = []\n",
    "    n = len(sucesion) \n",
    "    for k in range(n-2):\n",
    "        new_aprox = sucesion[k] - (sucesion[k+1]-sucesion[k])**2/(sucesion[k+2]-2*sucesion[k+1]+sucesion[k])\n",
    "        aceleracion.append(new_aprox) \n",
    "    return aceleracion\n",
    "\n",
    "def steffensen(g,x0,num):\n",
    "    aprox = [x0,g(x0),g(g(x0))] \n",
    "    aceleracion = []\n",
    "    for k in range(num):\n",
    "        x0 = aprox[0] - (aprox[1]-aprox[0])**2/(aprox[2]-2*aprox[1]+aprox[0])\n",
    "        aprox = [x0, g(x0),g(g(x0))]\n",
    "        aceleracion = aceleracion + [aprox[-1]]\n",
    "    return aceleracion"
   ]
  },
  {
   "cell_type": "markdown",
   "metadata": {},
   "source": [
    "Vamos a hacer una modifcicación en los métodos de bisección y de Newton-Raphson para que ahora guarde las iteraciones que va realizando. Vamos a usar la función $$ f(x) = x^3+4x^2-10 $$ usada en el ejercicio 1"
   ]
  },
  {
   "cell_type": "markdown",
   "metadata": {},
   "source": [
    "Recordemos que por el método de bisección obteníamos los siguientes resultados:\n",
    "\n",
    "Posiblemente solución exacta:  1.365230013414097\n",
    "\n",
    "Número total de iteraciones  50\n",
    "\n",
    "La solucion exacta es  1.36523001341410"
   ]
  },
  {
   "cell_type": "code",
   "execution_count": 140,
   "metadata": {},
   "outputs": [],
   "source": [
    "def f(x):\n",
    "    return x**3+4*x**2-10\n",
    "\n",
    "a,b=1,2\n",
    "a0,b0=a,b"
   ]
  },
  {
   "cell_type": "code",
   "execution_count": 141,
   "metadata": {},
   "outputs": [],
   "source": [
    "cifras = 6 # Número de cifras con el que queremos calcular prec = 10**(-cifras)\n",
    "getcontext().prec = cifras\n",
    "tol = 10**(-cifras+1)\n",
    "nmax = 100\n",
    "niter = 0\n",
    "prec=10**(-16)\n",
    "iteraciones = []\n",
    "for k in range(nmax):\n",
    "    niter = niter + 1;\n",
    "    c = a + (b-a)/2 # equivalente a c = (a+b)/2 \n",
    "    iteraciones.append(c)\n",
    "    if abs(f(c)) < prec:\n",
    "        sale = 'precision'\n",
    "        break\n",
    "    if np.sign(f(a)) != np.sign(f(c)):\n",
    "        b=c\n",
    "    else:\n",
    "        a=c\n",
    "    if b-a < tol:\n",
    "        sale = 'tolerancia' \n",
    "        break"
   ]
  },
  {
   "cell_type": "markdown",
   "metadata": {},
   "source": [
    "Ahora ya disponemos de una lista con las distintas iteraciones así que aplicamos los métodos de aceleración:"
   ]
  },
  {
   "cell_type": "code",
   "execution_count": 142,
   "metadata": {},
   "outputs": [
    {
     "name": "stdout",
     "output_type": "stream",
     "text": [
      "Con el método de Aitken:  15 1.365234375\n"
     ]
    }
   ],
   "source": [
    "acel_aitken = aitken(iteraciones) \n",
    "n = len(acel_aitken)\n",
    "print(\"Con el método de Aitken: \", n, acel_aitken[n-1])"
   ]
  },
  {
   "cell_type": "markdown",
   "metadata": {},
   "source": [
    "Hay que recordar que para el método de Steffensen utilizábamos una función de la forma $$ g(x)=x-f(x) $$"
   ]
  },
  {
   "cell_type": "code",
   "execution_count": 143,
   "metadata": {},
   "outputs": [
    {
     "name": "stdout",
     "output_type": "stream",
     "text": [
      "Con el método de Steffensen:  10 1.3652300134140969\n"
     ]
    }
   ],
   "source": [
    "x0 = 1 \n",
    "\n",
    "def g(x):\n",
    "    return x-f(x)\n",
    "\n",
    "acel_stef = steffensen(g,x0,10)\n",
    "print(\"Con el método de Steffensen: \", len(acel_stef), acel_stef[len(acel_stef)-1])"
   ]
  },
  {
   "cell_type": "markdown",
   "metadata": {},
   "source": [
    "Vamos a hacer lo mismo para el método de Newton-Raphson. Recordemos que obteníamos:\n",
    "\n",
    "Aproximación solicitada:  1.365\n",
    "\n",
    "Número total de iteraciones  4\n",
    "\n",
    "La solución exacta es  1.36523001341410"
   ]
  },
  {
   "cell_type": "code",
   "execution_count": 144,
   "metadata": {},
   "outputs": [],
   "source": [
    "a,b=a0,b0\n",
    "\n",
    "def df(x):\n",
    "    return 3*x**2 + 8*x\n",
    "\n",
    "mporig = getcontext().prec \n",
    "iteraciones = []\n",
    "x0 = Decimal(a); niter = 0; sale ='' \n",
    "cifras = 4\n",
    "for k in range(nmax):\n",
    "    niter = niter + 1;\n",
    "    x1 = x0 - f(x0)/Decimal(df(x0)) \n",
    "    iteraciones.append(x0)\n",
    "    if abs(x1-x0) < tol:\n",
    "        sale = 'tolerancia'\n",
    "        break\n",
    "    if abs(f(x1)) < prec:\n",
    "        sale = 'precision'\n",
    "        break \n",
    "    else:\n",
    "        x0 = x1"
   ]
  },
  {
   "cell_type": "markdown",
   "metadata": {},
   "source": [
    "Vamos a usar ahora los métodos de aceleración:"
   ]
  },
  {
   "cell_type": "code",
   "execution_count": 145,
   "metadata": {},
   "outputs": [
    {
     "name": "stdout",
     "output_type": "stream",
     "text": [
      "Con el método de Aitken:  2 1.36508\n"
     ]
    }
   ],
   "source": [
    "acel_aitken = aitken(iteraciones) \n",
    "n = len(acel_aitken)\n",
    "print(\"Con el método de Aitken: \", n, acel_aitken[n-1])"
   ]
  },
  {
   "cell_type": "code",
   "execution_count": 146,
   "metadata": {},
   "outputs": [
    {
     "name": "stdout",
     "output_type": "stream",
     "text": [
      "Con Steffensen:  10 1.3652300134140969\n"
     ]
    }
   ],
   "source": [
    "x0 = 1 \n",
    "def g(x):\n",
    "    return x-f(x)\n",
    "\n",
    "acel_stef = steffensen(g,x0,10) \n",
    "print(\"Con Steffensen: \", len(acel_stef), acel_stef[len(acel_stef)-1])"
   ]
  },
  {
   "cell_type": "markdown",
   "metadata": {},
   "source": [
    "**7.- Programar el método de Newton-Raphson acelerado, partiendo de cierto $x_0$ adecuado: $$x_{n+1}=x_n - m\\frac{f(x_n)}{f'(x_n)}, \\quad n=0,1,2,\\ldots$$ para el caso de una raíz múltiple (de multiplicidad $m\\in\\mathbb{N}$) de una ecuación del tipo $f(x)=0$ y comparar los resultados con los que se obtienen mediante el empleo de los métodos de aceleración habituales de Aitken y Steffensen (según los apuntes).**"
   ]
  },
  {
   "cell_type": "markdown",
   "metadata": {},
   "source": [
    "Primero vamos a definir un polinomio con varias raíces de distintas multiplicidades:"
   ]
  },
  {
   "cell_type": "code",
   "execution_count": 147,
   "metadata": {},
   "outputs": [],
   "source": [
    "def f(x):\n",
    "    return x*(x-1)**3"
   ]
  },
  {
   "cell_type": "markdown",
   "metadata": {},
   "source": [
    "Va a ser necesaria su versión en decimal y su derivada:"
   ]
  },
  {
   "cell_type": "code",
   "execution_count": 148,
   "metadata": {},
   "outputs": [],
   "source": [
    "def f_dec(x):\n",
    "    return x*(x-Decimal(1))**3\n",
    "\n",
    "def df(x):\n",
    "    return (x-Decimal(1))**3+x*Decimal(3)*(x-Decimal(1))**2"
   ]
  },
  {
   "cell_type": "markdown",
   "metadata": {},
   "source": [
    "Con esto ya creamos el algoritmo de Newton-Raphson acelerado:"
   ]
  },
  {
   "cell_type": "code",
   "execution_count": 149,
   "metadata": {},
   "outputs": [],
   "source": [
    "def NR_acelerado(f,df,b,m,cifras=16,prec=10**(-16)): \n",
    "    getcontext().prec = cifras\n",
    "    tol = 10**(-cifras+1)\n",
    "    iteraciones = []\n",
    "    x0 = Decimal(b); niter = 0; sale ='' \n",
    "    for k in range(nmax):\n",
    "        niter = niter + 1;\n",
    "        x1 = x0 - m*f(x0)/df(x0) \n",
    "        iteraciones.append(float(x1)) \n",
    "        if abs(x1-x0) < tol:\n",
    "            sale = 'tolerancia'\n",
    "            break\n",
    "        if abs(f(x1)) < prec:\n",
    "            sale = 'precision'\n",
    "            break \n",
    "        else:\n",
    "            x0 = x1\n",
    "\n",
    "    print('sale el programa por ',sale) \n",
    "    if sale == 'precision':\n",
    "        print('Posiblemente solución exacta: ',x1) \n",
    "    elif niter < nmax:\n",
    "        print('Aproximación solicitada: ', x1) \n",
    "    else:\n",
    "        print('Se llegó al número máximo de iteraciones') \n",
    "\n",
    "    print(\"Numero de iteraciones realizadas: \", niter)\n",
    "\n",
    "    getcontext().prec = mporig\n",
    "    return iteraciones"
   ]
  },
  {
   "cell_type": "markdown",
   "metadata": {},
   "source": [
    "Vamos a aplicarlo a la función antes definida"
   ]
  },
  {
   "cell_type": "code",
   "execution_count": 150,
   "metadata": {},
   "outputs": [
    {
     "name": "stdout",
     "output_type": "stream",
     "text": [
      "sale el programa por  precision\n",
      "Posiblemente solución exacta:  -2.61282E-21\n",
      "Numero de iteraciones realizadas:  7\n",
      "\n",
      "sale el programa por  precision\n",
      "Posiblemente solución exacta:  1.000000203238814\n",
      "Numero de iteraciones realizadas:  3\n"
     ]
    }
   ],
   "source": [
    "aprox1, aprox2 = -0.5,1.5\n",
    "m1,m2 = 1,3\n",
    "iter1 = NR_acelerado(f_dec,df,aprox1,m1)\n",
    "print(\"\") \n",
    "iter2 = NR_acelerado(f_dec,df,aprox2,m2) "
   ]
  },
  {
   "cell_type": "markdown",
   "metadata": {},
   "source": [
    "Vamos a mirar ahora los métodos de Aitken y Steffensen para la última raíz:"
   ]
  },
  {
   "cell_type": "code",
   "execution_count": 151,
   "metadata": {},
   "outputs": [
    {
     "name": "stdout",
     "output_type": "stream",
     "text": [
      "Con Aitken:  1 0.9999876090404444\n"
     ]
    }
   ],
   "source": [
    "aitken2 = aitken(iter2)\n",
    "print (\"Con Aitken: \", len(aitken2), aitken2[len(aitken2)-1])"
   ]
  },
  {
   "cell_type": "code",
   "execution_count": 152,
   "metadata": {},
   "outputs": [
    {
     "name": "stdout",
     "output_type": "stream",
     "text": [
      "Con Steffensen:  15 1.0009202086965279\n"
     ]
    }
   ],
   "source": [
    "def g(x):\n",
    "    return x-f(x)\n",
    "\n",
    "x0 = 1.5\n",
    "steffensen2 = steffensen(g,x0,15) \n",
    "print(\"Con Steffensen: \", len(steffensen2), steffensen2[len(steffensen2)-1])"
   ]
  }
 ],
 "metadata": {
  "interpreter": {
   "hash": "aee8b7b246df8f9039afb4144a1f6fd8d2ca17a180786b69acc140d282b71a49"
  },
  "kernelspec": {
   "display_name": "Python 3.9.2 64-bit",
   "language": "python",
   "name": "python3"
  },
  "language_info": {
   "codemirror_mode": {
    "name": "ipython",
    "version": 3
   },
   "file_extension": ".py",
   "mimetype": "text/x-python",
   "name": "python",
   "nbconvert_exporter": "python",
   "pygments_lexer": "ipython3",
   "version": "3.9.2"
  },
  "orig_nbformat": 4
 },
 "nbformat": 4,
 "nbformat_minor": 2
}
