{
 "cells": [
  {
   "cell_type": "code",
   "execution_count": 3,
   "metadata": {},
   "outputs": [],
   "source": [
    "import numpy as np\n",
    "import sympy as sp\n",
    "import matplotlib.pyplot as plt\n",
    "from time import perf_counter as now\n",
    "import numpy as np"
   ]
  },
  {
   "cell_type": "code",
   "execution_count": 4,
   "metadata": {},
   "outputs": [],
   "source": [
    "t, y0, z = sp.symbols('t, y_0,  z')\n",
    "def f(t,z):\n",
    "    return z\n",
    "\n",
    "a = 0; b = 1;\n",
    "ya = 1  "
   ]
  },
  {
   "cell_type": "code",
   "execution_count": 1,
   "metadata": {},
   "outputs": [],
   "source": [
    "butcher=[[0,[0,0],0],[1/2,[1/2,0],1]]"
   ]
  },
  {
   "cell_type": "code",
   "execution_count": 6,
   "metadata": {},
   "outputs": [
    {
     "data": {
      "text/plain": [
       "array([1.        , 1.105     , 1.221025  , 1.34923262, 1.49090205,\n",
       "       1.64744677, 1.82042868, 2.01157369, 2.22278892, 2.45618176,\n",
       "       2.71408085])"
      ]
     },
     "execution_count": 6,
     "metadata": {},
     "output_type": "execute_result"
    }
   ],
   "source": [
    "module = __import__(\"rkexplicito\")\n",
    "func = getattr(module, \"integrate\")\n",
    "\n",
    "x, y = func(f,butcher,a,ya,b,10)\n",
    "y"
   ]
  },
  {
   "cell_type": "code",
   "execution_count": 8,
   "metadata": {},
   "outputs": [
    {
     "data": {
      "text/plain": [
       "[1,\n",
       " 1.105,\n",
       " 1.221025,\n",
       " 1.349232625,\n",
       " 1.490902050625,\n",
       " 1.647446765940625,\n",
       " 1.8204286763643904,\n",
       " 2.0115736873826515,\n",
       " 2.22278892455783,\n",
       " 2.456181761636402,\n",
       " 2.714080846608224]"
      ]
     },
     "execution_count": 8,
     "metadata": {},
     "output_type": "execute_result"
    }
   ],
   "source": [
    "module = __import__(\"rk2\")\n",
    "func = getattr(module, \"integrate\")\n",
    "\n",
    "x,y = func(f,1/2,1,a,b,ya,10)\n",
    "y"
   ]
  }
 ],
 "metadata": {
  "interpreter": {
   "hash": "aee8b7b246df8f9039afb4144a1f6fd8d2ca17a180786b69acc140d282b71a49"
  },
  "kernelspec": {
   "display_name": "Python 3.9.12 64-bit",
   "language": "python",
   "name": "python3"
  },
  "language_info": {
   "codemirror_mode": {
    "name": "ipython",
    "version": 3
   },
   "file_extension": ".py",
   "mimetype": "text/x-python",
   "name": "python",
   "nbconvert_exporter": "python",
   "pygments_lexer": "ipython3",
   "version": "3.9.12"
  },
  "orig_nbformat": 4
 },
 "nbformat": 4,
 "nbformat_minor": 2
}
